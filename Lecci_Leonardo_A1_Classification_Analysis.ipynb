{
 "cells": [
  {
   "cell_type": "markdown",
   "id": "222c4fdd-40a3-4e8b-81ab-27a3f42ef4e8",
   "metadata": {},
   "source": [
    "# Leonardo Lecci\n",
    "### A1: Classification Model Development"
   ]
  },
  {
   "cell_type": "markdown",
   "id": "4998ce17-13c7-446a-a209-66b1838c19f2",
   "metadata": {},
   "source": [
    "## Objective"
   ]
  },
  {
   "cell_type": "markdown",
   "id": "1ec80f2f-cd4e-48fd-8627-b95877ed136d",
   "metadata": {},
   "source": [
    "Apprentice Chef is looking to expand is business. To attract new customers, they have been conducting a cross-sell promotion for their customers.\n",
    "They are now looking to develop a classification machine learning model the gain deeper insights to which type of customers their promotions would be more likely to have a positive outcome.\n",
    "<br>\n",
    "<br>\n",
    "To develop this model we will use the dataset provided by them \"Cross_Sell_Success_Dataset_2023.xlsx\". Their data science team assures that their dataset engineering techniques are statistically sound and represent the true picture of Apprentice Chef’s customers. Taking this assumption as true, to build a better model we will only analyze the dataset to understand which engineering feature might be built to construct a more robust model.\n",
    "<br>\n",
    "<br>\n",
    "To ensure we will use the best model possible we will create a model tournament on five models (Logistic Regression, Random Forest Classifier, Gradient Boosting Classifier, K Neighbors Classifier, and Decision Tree Classifier) to ensure to pick the best one for the task. The winner will be chosen based on the model whose AUC score is the highest.\n",
    "<br>\n",
    "<br>\n",
    "AUC is particularly useful when the dataset is imbalanced, i.e., when one class is much rarer than the other. In such cases, accuracy alone may not be a good metric to use because a model that simply predicts the majority class all the time will have a high accuracy but may not be very useful in practice.\n",
    "In addition, AUC takes into account both the true positive rate and the false positive rate, regardless of the class distribution. This makes it a more robust and reliable measure of the model's performance, especially when dealing with imbalanced datasets."
   ]
  },
  {
   "cell_type": "markdown",
   "id": "e4318171-cb93-40e7-a735-12278d484e5b",
   "metadata": {},
   "source": [
    "## Importing necessary libraries and data"
   ]
  },
  {
   "cell_type": "code",
   "execution_count": 1,
   "id": "3c0251cd-7390-452d-a7fb-03be28681778",
   "metadata": {},
   "outputs": [],
   "source": [
    "#Import necessary libraries\n",
    "import pandas                     as pd\n",
    "import matplotlib.pyplot          as plt                                                                          # data visualization\n",
    "import seaborn                    as sns                                                                          # enhanced data viz\n",
    "import numpy                      as np\n",
    "import time\n",
    "from sklearn.model_selection      import train_test_split, GridSearchCV, RandomizedSearchCV, cross_val_score      # train-test split, hyperparameter tuning and cross_val_score\n",
    "from sklearn.linear_model         import LogisticRegression                                                       # logistic regression\n",
    "from sklearn.ensemble             import RandomForestClassifier, GradientBoostingClassifier\n",
    "from sklearn.neighbors            import KNeighborsClassifier\n",
    "from sklearn.metrics              import accuracy_score, confusion_matrix, roc_auc_score, roc_curve, make_scorer  # confusion matrix, auc score\n",
    "from sklearn.neighbors            import KNeighborsClassifier                                                     # KNN for classification\n",
    "from sklearn.preprocessing        import StandardScaler                                                           # standard scaler\n",
    "from sklearn.tree                 import DecisionTreeClassifier, plot_tree                                        # classification trees, tree plots\n",
    "from sklearn.pipeline             import Pipeline\n",
    "from sklearn.decomposition        import PCA\n",
    "import warnings\n",
    "from scipy import stats\n",
    "\n",
    "# suppress future warnings\n",
    "warnings.simplefilter(action='ignore', category=FutureWarning)\n",
    "\n",
    "\n",
    "# setting pandas print options\n",
    "pd.set_option('display.max_rows', 500)\n",
    "pd.set_option('display.max_columns', 500)\n",
    "pd.set_option('display.width', 1000)\n",
    "pd.set_option('display.max_colwidth', 100)\n",
    "\n",
    "\n",
    "# specifying the path and file name\n",
    "file = './__datasets/Cross_Sell_Success_Dataset_2023.xlsx'\n",
    "\n",
    "\n",
    "data = pd.read_excel(file)"
   ]
  },
  {
   "cell_type": "markdown",
   "id": "c06e9e59-8792-43af-913b-c4105f17e5b7",
   "metadata": {},
   "source": [
    "# Feature Engineering"
   ]
  },
  {
   "cell_type": "markdown",
   "id": "b04fac74-27fb-4049-a98c-3b6bb736da90",
   "metadata": {},
   "source": [
    "Feature engineering is the process of selecting, transforming, and creating new features from raw data to improve the performance of machine learning models. In other words, it's the process of selecting the most important variables or features from the data, as well as creating new variables that may capture important relationships in the data.\n",
    "<br>\n",
    "<br>\n",
    "Feature engineering is important for classifier models in machine learning for several reasons. \n",
    "- First, selecting the right features can improve the accuracy and generalizability of the model. By removing irrelevant features and selecting only the most informative ones, the model can better capture the underlying patterns in the data and make better predictions.\n",
    "- Second, feature engineering can help address common problems in classification tasks, such as overfitting or underfitting. By adding new features that capture important relationships in the data, or by transforming existing features to better capture non-linear relationships, the model can better fit the training data and generalize to new data.\n",
    "- Finally, feature engineering can also help reduce the complexity of the model, making it easier to understand and interpret. By selecting only the most important features and transforming them in a meaningful way, the model can be more transparent and provide insights into the underlying relationships in the data."
   ]
  },
  {
   "cell_type": "code",
   "execution_count": 2,
   "id": "4c1a0a76-55ec-4823-8f25-d32613ed417a",
   "metadata": {},
   "outputs": [],
   "source": [
    "# renaming the Mislabeled column to a name that better represent the data\n",
    "data = data.rename(columns={'LARGEST_ORDER_SIZE': 'AVG_ORDER_SIZE', 'LATE_DELIVERIES ':'LATE_DELIVERIES'})"
   ]
  },
  {
   "cell_type": "code",
   "execution_count": 3,
   "id": "1c9588fa-8924-47a8-8a15-00a69bbee4ba",
   "metadata": {},
   "outputs": [],
   "source": [
    "data[\"LATE_DELIVERY_DUMMY\"] = (data['LATE_DELIVERIES']>0).astype(int) # get dummy if late delivery is bigger than one\n",
    "data[\"CANCELLED_ORDER_DUMMY\"] = (data['CANCELLATIONS_AFTER_NOON']>0).astype(int)\n",
    "data[\"WEEKLY_PLAN_DUMMY\"] = (data['WEEKLY_PLAN']>0).astype(int)\n",
    "data['LOG_REVENUE'] = np.log(data['REVENUE']) \n",
    "data[\"LOG_TOTAL_MEALS_ORDERED\"] = np.log(data['TOTAL_MEALS_ORDERED']) \n",
    "data[\"LOG_AVG_TIME_PER_SITE_VISIT\"] = np.log(data['AVG_TIME_PER_SITE_VISIT']) \n",
    "data[\"LOG_AVG_PREP_VID_TIME\"] = np.log(data['AVG_PREP_VID_TIME'])\n",
    "\n"
   ]
  },
  {
   "cell_type": "markdown",
   "id": "65bd910a-c58e-4ba9-b4f2-90801ef54f3c",
   "metadata": {},
   "source": [
    "### EMAIL FEATURE\n",
    "We thought of this feature to help classify users based on the type of email they used to signup on to their accounts. We think that users with a professional email will have more probability to subscribe to the promotion for different reasons. It might be due to the fact that they check their work email more often, and the promotion of the company might have been communicated through marketing emails. Another reason might be that they have higher disposable income than people using personal, or, especially, junk emails, and therefore are more likely to take part in the promotion."
   ]
  },
  {
   "cell_type": "code",
   "execution_count": 4,
   "id": "dc406614-44ea-4318-a44f-228b946c7bb6",
   "metadata": {},
   "outputs": [],
   "source": [
    "# create new columns with default value of 0\n",
    "data['PROFESSIONAL'] = 0\n",
    "data['PERSONAL'] = 0\n",
    "data['JUNK'] = 0\n",
    "\n",
    "# create lists of email domains for each category\n",
    "professional_domains = ['mmm.com', 'amex.com', 'apple.com', 'boeing.com', 'caterpillar.com',\n",
    "                        'chevron.com', 'cisco.com', 'cocacola.com', 'disney.com', 'dupont.com',\n",
    "                        'exxon.com', 'ge.org', 'goldmansacs.com', 'homedepot.com', 'ibm.com',\n",
    "                        'intel.com', 'jnj.com', 'jpmorgan.com', 'mcdonalds.com', 'merck.com',\n",
    "                        'microsoft.com', 'nike.com', 'pfizer.com', 'pg.com', 'travelers.com',\n",
    "                        'unitedtech.com', 'unitedhealth.com', 'verizon.com', 'visa.com', 'walmart.com']\n",
    "personal_domains = ['gmail.com', 'yahoo.com', 'protonmail.com']\n",
    "junk_domains = ['me.com', 'aol.com', 'hotmail.com', 'live.com', 'msn.com', 'passport.com']\n",
    "\n",
    "# loop through each email and update the corresponding column\n",
    "for index, row in data.iterrows():\n",
    "    email = row['EMAIL']\n",
    "    domain = email.split('@')[1]\n",
    "    \n",
    "    if domain in professional_domains:\n",
    "        data.at[index, 'PROFESSIONAL'] = 1\n",
    "    elif domain in personal_domains:\n",
    "        data.at[index, 'PERSONAL'] = 1\n",
    "    elif domain in junk_domains:\n",
    "        data.at[index, 'JUNK'] = 1\n"
   ]
  },
  {
   "cell_type": "markdown",
   "id": "82644935-e628-4220-81c7-a010de9c795a",
   "metadata": {},
   "source": [
    "### USER SIZE\n",
    "This engineering feature is based on categorizing users based on the number of meals ordered.\n",
    "The expected behavior is that large users (people with a higher level of orders), might be more inclined to take part in the promotion.\n",
    "Although another possibility is that because the promotion was initially directed towards users that were not as engaged in the app, users with the least amount of orders might be the ones responding better to the cross-sell promotion.\n",
    "<br>\n",
    "To calculate this feature, we have created three new columns, each of them is a dummy variable, whose value will be set to 1 (instead of the default 0), if the value in the original column is respectively in the first quartile, interquartile range, and, finally, in the fourth quartile."
   ]
  },
  {
   "cell_type": "code",
   "execution_count": 5,
   "id": "643b20b4-d874-47fc-80ea-6bac9b0c731f",
   "metadata": {},
   "outputs": [
    {
     "data": {
      "text/plain": [
       "count    1946.00\n",
       "mean       74.63\n",
       "std        55.31\n",
       "min        11.00\n",
       "25%        39.00\n",
       "50%        60.00\n",
       "75%        95.00\n",
       "max       493.00\n",
       "Name: TOTAL_MEALS_ORDERED, dtype: float64"
      ]
     },
     "execution_count": 5,
     "metadata": {},
     "output_type": "execute_result"
    }
   ],
   "source": [
    "# describe for TOTAL_MEALS_ORDERED\n",
    "data['TOTAL_MEALS_ORDERED'].describe(include = 'number').round(decimals = 2)"
   ]
  },
  {
   "cell_type": "code",
   "execution_count": 6,
   "id": "9bf27ec2-17be-45d8-b050-1bb124eba2e4",
   "metadata": {},
   "outputs": [],
   "source": [
    "# calculating if a user is small, medium, or large based on the number of meals orderd\n",
    "data['SMALL_USER'] = 0\n",
    "data['MEDIUM_USER'] = 0\n",
    "data['LARGE_USER'] = 0\n",
    "\n",
    "# Creating a loop to fill\n",
    "for index, row in data.iterrows():\n",
    "    \n",
    "    # small_customer\n",
    "    if data.loc[index, 'TOTAL_MEALS_ORDERED'] < data['TOTAL_MEALS_ORDERED'].describe(include = 'number')['25%'].round(decimals = 0): # 25th percentile\n",
    "        data.loc[index, 'SMALL_USER'] = 1   \n",
    "     \n",
    "    # medium_customer\n",
    "    elif data.loc[index, 'TOTAL_MEALS_ORDERED'] >= data['TOTAL_MEALS_ORDERED'].describe(include = 'number')['25%'].round(decimals = 0) and data.loc[index, 'TOTAL_MEALS_ORDERED'] < data['TOTAL_MEALS_ORDERED'].describe(include = 'number')['75%'].round(decimals = 0): # in the IQR\n",
    "        data.loc[index, 'MEDIUM_USER'] = 1\n",
    "    \n",
    "    # large_customer\n",
    "    if data.loc[index, 'TOTAL_MEALS_ORDERED'] >= data['TOTAL_MEALS_ORDERED'].describe(include = 'number')['75%'].round(decimals = 0) : # above the 75th percentile\n",
    "        data.loc[index, 'LARGE_USER'] = 1"
   ]
  },
  {
   "cell_type": "markdown",
   "id": "be077d6e-c100-4b66-85b3-47d0f8ee02d8",
   "metadata": {},
   "source": [
    "### CONTACT TO CUSTOMER SERVICE\n",
    "This engineering feature is creating three new binary variables, LOW_CONTACT, MEDIUM_CONTACT, and LARGE_CONTACT, based on the value of the CONTACTS_W_CUSTOMER_SERVICE feature. These variables will be used as inputs to a classifier machine learning model to predict a target variable.\n",
    "\n",
    "The LOW_CONTACT variable is set to 1 if the value of CONTACTS_W_CUSTOMER_SERVICE is below the 25th percentile of the data, while the LARGE_CONTACT variable is set to 1 if the value is above the 75th percentile. The MEDIUM_CONTACT variable is set to 1 if the value is within the interquartile range (between the 25th and 75th percentile).\n",
    "\n",
    "The for loop is iterating through each row of the data, and for each row, the CONTACTS_W_CUSTOMER_SERVICE value is compared to the percentiles of the distribution, and the appropriate binary variable is set to 1.\n",
    "\n",
    "This feature engineering approach is useful for capturing non-linear relationships between the CONTACTS_W_CUSTOMER_SERVICE feature and the target variable, and it can help improve the performance of the classifier model."
   ]
  },
  {
   "cell_type": "code",
   "execution_count": 7,
   "id": "256fb934-045a-44d4-a531-c332e25e1fec",
   "metadata": {},
   "outputs": [
    {
     "data": {
      "text/plain": [
       "count    1946.0\n",
       "mean        4.9\n",
       "std         2.5\n",
       "min         1.0\n",
       "25%         3.0\n",
       "50%         5.0\n",
       "75%         7.0\n",
       "max        19.0\n",
       "Name: CONTACTS_W_CUSTOMER_SERVICE, dtype: float64"
      ]
     },
     "execution_count": 7,
     "metadata": {},
     "output_type": "execute_result"
    }
   ],
   "source": [
    "# Descriptive statisctics for CONTACTS_W_CUSTOMER_SERVICE\n",
    "data['CONTACTS_W_CUSTOMER_SERVICE'].describe(include = 'number').round(decimals = 2)"
   ]
  },
  {
   "cell_type": "code",
   "execution_count": 8,
   "id": "98e396e6-47b9-48ab-84e8-a34bdf6a25c2",
   "metadata": {},
   "outputs": [],
   "source": [
    "# Placeholder variables using percentiles\n",
    "data['LOW_CONTACT'] = 0\n",
    "data['MEDIUM_CONTACT'] = 0\n",
    "data['LARGE_CONTACT'] = 0\n",
    "\n",
    "# Creating a loop to fill\n",
    "for index, row in data.iterrows():\n",
    "    \n",
    "    # low_contact\n",
    "    if data.loc[index, 'CONTACTS_W_CUSTOMER_SERVICE'] < data['CONTACTS_W_CUSTOMER_SERVICE'].describe(include = 'number')['25%'].round(decimals = 0) : # 25th percentile\n",
    "        data.loc[index, 'LOW_CONTACT'] = 1   \n",
    "     \n",
    "    # medium_contact\n",
    "    elif data.loc[index, 'CONTACTS_W_CUSTOMER_SERVICE'] >= data['CONTACTS_W_CUSTOMER_SERVICE'].describe(include = 'number')['25%'].round(decimals = 0) and data.loc[index, 'CONTACTS_W_CUSTOMER_SERVICE'] < data['CONTACTS_W_CUSTOMER_SERVICE'].describe(include = 'number')['75%'].round(decimals = 0): # in the IQR\n",
    "        data.loc[index, 'MEDIUM_CONTACT'] = 1\n",
    "    \n",
    "    # large_contact\n",
    "    if data.loc[index, 'CONTACTS_W_CUSTOMER_SERVICE'] >= data['CONTACTS_W_CUSTOMER_SERVICE'].describe(include = 'number')['75%'].round(decimals = 0) : # above the 75th percentile\n",
    "        data.loc[index, 'LARGE_CONTACT'] = 1"
   ]
  },
  {
   "cell_type": "markdown",
   "id": "7969bd48-def3-45df-9c62-fcf1324c5971",
   "metadata": {},
   "source": [
    "### TYPE OF USER RANKER\n",
    "This engineering feature involves creating three placeholder variables, LOW_RANKING, MEDIUM_RANKING, and HIGH_RANKING, that will be used to classify data based on the distribution of the AVG_MEAN_RATING column. The code uses percentiles to determine which category each row of data falls into, with the 25th percentile used to define the low-ranking group, the 75th percentile used to define the high-ranking group, and the interquartile range used to define the medium-ranking group. The code then uses a loop to fill in the appropriate ranking value for each row of data based on its AVG_MEAN_RATING value. This feature can be used to classify data for further analysis or to train a machine learning model."
   ]
  },
  {
   "cell_type": "code",
   "execution_count": 9,
   "id": "5cfca6f5-622e-4eb9-8d36-8172e56e5496",
   "metadata": {},
   "outputs": [
    {
     "data": {
      "text/plain": [
       "count    1946.00\n",
       "mean        3.55\n",
       "std         0.61\n",
       "min         1.32\n",
       "25%         3.16\n",
       "50%         3.42\n",
       "75%         3.95\n",
       "max         5.00\n",
       "Name: AVG_MEAN_RATING, dtype: float64"
      ]
     },
     "execution_count": 9,
     "metadata": {},
     "output_type": "execute_result"
    }
   ],
   "source": [
    "data['AVG_MEAN_RATING'].describe(include = 'number').round(decimals = 2)"
   ]
  },
  {
   "cell_type": "code",
   "execution_count": 10,
   "id": "dd1c5836-40e9-488b-885a-b5d683bd7cc7",
   "metadata": {},
   "outputs": [],
   "source": [
    "# Placeholder variables using percentiles\n",
    "data['LOW_RANKING'] = 0\n",
    "data['MEDIUM_RANKING'] = 0\n",
    "data['HIGH_RANKING'] = 0\n",
    "\n",
    "# Creating a loop to fill\n",
    "for index, row in data.iterrows():\n",
    "    \n",
    "    # low_contact\n",
    "    if data.loc[index, 'AVG_MEAN_RATING'] < data['AVG_MEAN_RATING'].describe(include = 'number')['25%'].round(decimals = 2): # 25th percentile\n",
    "        data.loc[index, 'LOW_RANKING'] = 1   \n",
    "     \n",
    "    # medium_contact\n",
    "    elif data.loc[index, 'AVG_MEAN_RATING'] >= data['AVG_MEAN_RATING'].describe(include = 'number')['25%'].round(decimals = 2) and data.loc[index, 'AVG_MEAN_RATING'] < data['AVG_MEAN_RATING'].describe(include = 'number')['75%'].round(decimals = 2): # in the IQR\n",
    "        data.loc[index, 'MEDIUM_RANKING'] = 1\n",
    "    \n",
    "    # large_contact\n",
    "    if data.loc[index, 'AVG_MEAN_RATING'] >+ data['AVG_MEAN_RATING'].describe(include = 'number')['75%'].round(decimals = 2) : # above the 75th percentile\n",
    "        data.loc[index, 'HIGH_RANKING'] = 1"
   ]
  },
  {
   "cell_type": "markdown",
   "id": "968f0ccd-44ee-4052-9cf8-bab9ce4d7953",
   "metadata": {},
   "source": [
    "### USER SPENDING\n",
    "This engineering feature creates three new placeholder variables for a classifier machine learning model: LOW_SPENDER, MEDIUM_SPENDER, and HIGH_SPENDER. These variables are filled using percentiles of the REVENUE column in the data set.\n",
    "\n",
    "The script uses a loop to iterate over each row in the data set, and sets the value of each placeholder variable based on the REVENUE value of that row. If the REVENUE value is below the 25th percentile, the LOW_SPENDER variable is set to 1. If the REVENUE value is between the 25th and 75th percentile, and the CONTACTS_W_CUSTOMER_SERVICE value is below the 75th percentile, the MEDIUM_SPENDER variable is set to 1. Finally, if the REVENUE value is above the 75th percentile, the HIGH_SPENDER variable is set to 1.\n",
    "\n",
    "This engineering feature is useful for creating a classifier model that can predict the spending behavior of customers based on their revenue and customer service interactions. By dividing customers into three groups based on their spending behavior, the model can be used to target marketing efforts or identify areas for improvement in customer service."
   ]
  },
  {
   "cell_type": "code",
   "execution_count": 11,
   "id": "35ffe90e-95d1-4097-8f94-68ca312c8534",
   "metadata": {},
   "outputs": [
    {
     "data": {
      "text/plain": [
       "count    1946.00\n",
       "mean     2107.29\n",
       "std      1138.29\n",
       "min       131.00\n",
       "25%      1350.00\n",
       "50%      1740.00\n",
       "75%      2670.00\n",
       "max      8793.75\n",
       "Name: REVENUE, dtype: float64"
      ]
     },
     "execution_count": 11,
     "metadata": {},
     "output_type": "execute_result"
    }
   ],
   "source": [
    "data['REVENUE'].describe(include = 'number').round(decimals = 2)"
   ]
  },
  {
   "cell_type": "code",
   "execution_count": 12,
   "id": "8b343e6f-42c8-4c03-b7d9-3ca06a03347e",
   "metadata": {},
   "outputs": [],
   "source": [
    "# Placeholder variables using percentiles\n",
    "data['LOW_SPENDER'] = 0\n",
    "data['MEDIUM_SPENDER'] = 0\n",
    "data['HIGH_SPENDER'] = 0\n",
    "\n",
    "# Creating a loop to fill\n",
    "for index, row in data.iterrows():\n",
    "    \n",
    "    # low_buyer\n",
    "    if data.loc[index, 'REVENUE'] < data['REVENUE'].describe(include = 'number')['25%'].round(decimals = 0): # 25th percentile\n",
    "        data.loc[index, 'LOW_SPENDER'] = 1   \n",
    "     \n",
    "    # medium_buyer\n",
    "    elif data.loc[index, 'REVENUE'] >= data['REVENUE'].describe(include = 'number')['25%'].round(decimals = 0) and data.loc[index, 'CONTACTS_W_CUSTOMER_SERVICE'] < data['REVENUE'].describe(include = 'number')['75%'].round(decimals = 0): # in the IQR\n",
    "        data.loc[index, 'MEDIUM_SPENDER'] = 1\n",
    "    \n",
    "    # large_buyer\n",
    "    if data.loc[index, 'REVENUE'] >= data['REVENUE'].describe(include = 'number')['75%'].round(decimals = 0) : # above the 75th percentile\n",
    "        data.loc[index, 'HIGH_SPENDER'] = 1"
   ]
  },
  {
   "cell_type": "code",
   "execution_count": 13,
   "id": "740234fc-9e16-47c6-bc59-1d1548cff64d",
   "metadata": {},
   "outputs": [],
   "source": [
    "col = ['UNIQUE_MEALS_PURCH', 'REVENUE', 'PRODUCT_CATEGORIES_VIEWED', 'PC_LOGINS',\n",
    "       'MOBILE_LOGINS', 'AVG_ORDER_SIZE', 'TOTAL_PHOTOS_VIEWED', 'LOG_REVENUE', \n",
    "       'LATE_DELIVERY_DUMMY', 'CANCELLED_ORDER_DUMMY', 'WEEKLY_PLAN_DUMMY', \n",
    "       'LOG_AVG_TIME_PER_SITE_VISIT', 'LOG_AVG_PREP_VID_TIME', 'SMALL_USER',\n",
    "       'MEDIUM_USER','LARGE_CONTACT', 'MEDIUM_CONTACT', 'LOW_RANKING', 'HIGH_RANKING',\n",
    "       'PROFESSIONAL', 'JUNK', 'MEDIUM_SPENDER', 'HIGH_SPENDER']"
   ]
  },
  {
   "cell_type": "code",
   "execution_count": 14,
   "id": "379f4c48-b7d7-4929-9664-a8b132e6f176",
   "metadata": {},
   "outputs": [],
   "source": [
    "#col = ['LOG_AVG_TIME_PER_SITE_VISIT', 'LOG_AVG_PREP_VID_TIME',\n",
    "#       'TOTAL_PHOTOS_VIEWED', 'SMALL_USER', 'MEDIUM_USER','LARGE_CONTACT',\n",
    "#        'MEDIUM_CONTACT', 'LOW_RANKING', 'HIGH_RANKING', 'PROFESSIONAL', \n",
    "#        'JUNK', 'MEDIUM_SPENDER', 'HIGH_SPENDER', 'REVENUE']"
   ]
  },
  {
   "cell_type": "code",
   "execution_count": 15,
   "id": "5dc5eac6-6ca5-462e-90dc-a871f9b154fb",
   "metadata": {},
   "outputs": [],
   "source": [
    "#col = ['SMALL_USER', 'MEDIUM_USER','LARGE_CONTACT', 'MEDIUM_CONTACT', \n",
    "#       'LOW_RANKING', 'HIGH_RANKING', 'PROFESSIONAL', 'JUNK', 'MEDIUM_SPENDER', 'HIGH_SPENDER', 'REVENUE']"
   ]
  },
  {
   "cell_type": "code",
   "execution_count": 16,
   "id": "b95df4c7-c408-4950-a723-30f1b27e154b",
   "metadata": {},
   "outputs": [
    {
     "data": {
      "text/html": [
       "<div>\n",
       "<style scoped>\n",
       "    .dataframe tbody tr th:only-of-type {\n",
       "        vertical-align: middle;\n",
       "    }\n",
       "\n",
       "    .dataframe tbody tr th {\n",
       "        vertical-align: top;\n",
       "    }\n",
       "\n",
       "    .dataframe thead th {\n",
       "        text-align: right;\n",
       "    }\n",
       "</style>\n",
       "<table border=\"1\" class=\"dataframe\">\n",
       "  <thead>\n",
       "    <tr style=\"text-align: right;\">\n",
       "      <th></th>\n",
       "      <th>CROSS_SELL_SUCCESS</th>\n",
       "    </tr>\n",
       "  </thead>\n",
       "  <tbody>\n",
       "    <tr>\n",
       "      <th>CROSS_SELL_SUCCESS</th>\n",
       "      <td>1.000000</td>\n",
       "    </tr>\n",
       "    <tr>\n",
       "      <th>PROFESSIONAL</th>\n",
       "      <td>0.194102</td>\n",
       "    </tr>\n",
       "    <tr>\n",
       "      <th>CANCELLATIONS_AFTER_NOON</th>\n",
       "      <td>0.142681</td>\n",
       "    </tr>\n",
       "    <tr>\n",
       "      <th>CANCELLED_ORDER_DUMMY</th>\n",
       "      <td>0.099748</td>\n",
       "    </tr>\n",
       "    <tr>\n",
       "      <th>MOBILE_LOGINS</th>\n",
       "      <td>0.062023</td>\n",
       "    </tr>\n",
       "    <tr>\n",
       "      <th>PC_LOGINS</th>\n",
       "      <td>0.044462</td>\n",
       "    </tr>\n",
       "    <tr>\n",
       "      <th>PERSONAL</th>\n",
       "      <td>0.038841</td>\n",
       "    </tr>\n",
       "    <tr>\n",
       "      <th>UNIQUE_MEALS_PURCH</th>\n",
       "      <td>0.036541</td>\n",
       "    </tr>\n",
       "    <tr>\n",
       "      <th>LOG_AVG_TIME_PER_SITE_VISIT</th>\n",
       "      <td>0.034529</td>\n",
       "    </tr>\n",
       "    <tr>\n",
       "      <th>MEDIUM_SPENDER</th>\n",
       "      <td>0.032705</td>\n",
       "    </tr>\n",
       "    <tr>\n",
       "      <th>AVG_TIME_PER_SITE_VISIT</th>\n",
       "      <td>0.032115</td>\n",
       "    </tr>\n",
       "    <tr>\n",
       "      <th>LOW_RANKING</th>\n",
       "      <td>0.027412</td>\n",
       "    </tr>\n",
       "    <tr>\n",
       "      <th>LATE_DELIVERIES</th>\n",
       "      <td>0.023941</td>\n",
       "    </tr>\n",
       "    <tr>\n",
       "      <th>LOG_TOTAL_MEALS_ORDERED</th>\n",
       "      <td>0.023570</td>\n",
       "    </tr>\n",
       "    <tr>\n",
       "      <th>AVG_ORDER_SIZE</th>\n",
       "      <td>0.022247</td>\n",
       "    </tr>\n",
       "    <tr>\n",
       "      <th>LARGE_USER</th>\n",
       "      <td>0.017639</td>\n",
       "    </tr>\n",
       "    <tr>\n",
       "      <th>LOG_AVG_PREP_VID_TIME</th>\n",
       "      <td>0.015990</td>\n",
       "    </tr>\n",
       "    <tr>\n",
       "      <th>MEDIUM_USER</th>\n",
       "      <td>0.015322</td>\n",
       "    </tr>\n",
       "    <tr>\n",
       "      <th>LATE_DELIVERY_DUMMY</th>\n",
       "      <td>0.014390</td>\n",
       "    </tr>\n",
       "    <tr>\n",
       "      <th>AVG_PREP_VID_TIME</th>\n",
       "      <td>0.011117</td>\n",
       "    </tr>\n",
       "    <tr>\n",
       "      <th>TOTAL_PHOTOS_VIEWED</th>\n",
       "      <td>0.010047</td>\n",
       "    </tr>\n",
       "    <tr>\n",
       "      <th>LARGE_CONTACT</th>\n",
       "      <td>0.008394</td>\n",
       "    </tr>\n",
       "    <tr>\n",
       "      <th>LOG_REVENUE</th>\n",
       "      <td>0.007533</td>\n",
       "    </tr>\n",
       "    <tr>\n",
       "      <th>MEDIUM_CONTACT</th>\n",
       "      <td>0.007448</td>\n",
       "    </tr>\n",
       "    <tr>\n",
       "      <th>TOTAL_MEALS_ORDERED</th>\n",
       "      <td>0.006475</td>\n",
       "    </tr>\n",
       "    <tr>\n",
       "      <th>PRODUCT_CATEGORIES_VIEWED</th>\n",
       "      <td>0.004671</td>\n",
       "    </tr>\n",
       "    <tr>\n",
       "      <th>REVENUE</th>\n",
       "      <td>0.004540</td>\n",
       "    </tr>\n",
       "    <tr>\n",
       "      <th>CONTACTS_W_CUSTOMER_SERVICE</th>\n",
       "      <td>-0.000183</td>\n",
       "    </tr>\n",
       "    <tr>\n",
       "      <th>MEDIUM_RANKING</th>\n",
       "      <td>-0.003355</td>\n",
       "    </tr>\n",
       "    <tr>\n",
       "      <th>WEEKLY_PLAN</th>\n",
       "      <td>-0.005337</td>\n",
       "    </tr>\n",
       "    <tr>\n",
       "      <th>HIGH_SPENDER</th>\n",
       "      <td>-0.014265</td>\n",
       "    </tr>\n",
       "    <tr>\n",
       "      <th>WEEKLY_PLAN_DUMMY</th>\n",
       "      <td>-0.018820</td>\n",
       "    </tr>\n",
       "    <tr>\n",
       "      <th>LOW_CONTACT</th>\n",
       "      <td>-0.019750</td>\n",
       "    </tr>\n",
       "    <tr>\n",
       "      <th>HIGH_RANKING</th>\n",
       "      <td>-0.027737</td>\n",
       "    </tr>\n",
       "    <tr>\n",
       "      <th>LOW_SPENDER</th>\n",
       "      <td>-0.032705</td>\n",
       "    </tr>\n",
       "    <tr>\n",
       "      <th>AVG_MEAN_RATING</th>\n",
       "      <td>-0.035074</td>\n",
       "    </tr>\n",
       "    <tr>\n",
       "      <th>SMALL_USER</th>\n",
       "      <td>-0.036083</td>\n",
       "    </tr>\n",
       "    <tr>\n",
       "      <th>JUNK</th>\n",
       "      <td>-0.280870</td>\n",
       "    </tr>\n",
       "  </tbody>\n",
       "</table>\n",
       "</div>"
      ],
      "text/plain": [
       "                             CROSS_SELL_SUCCESS\n",
       "CROSS_SELL_SUCCESS                     1.000000\n",
       "PROFESSIONAL                           0.194102\n",
       "CANCELLATIONS_AFTER_NOON               0.142681\n",
       "CANCELLED_ORDER_DUMMY                  0.099748\n",
       "MOBILE_LOGINS                          0.062023\n",
       "PC_LOGINS                              0.044462\n",
       "PERSONAL                               0.038841\n",
       "UNIQUE_MEALS_PURCH                     0.036541\n",
       "LOG_AVG_TIME_PER_SITE_VISIT            0.034529\n",
       "MEDIUM_SPENDER                         0.032705\n",
       "AVG_TIME_PER_SITE_VISIT                0.032115\n",
       "LOW_RANKING                            0.027412\n",
       "LATE_DELIVERIES                        0.023941\n",
       "LOG_TOTAL_MEALS_ORDERED                0.023570\n",
       "AVG_ORDER_SIZE                         0.022247\n",
       "LARGE_USER                             0.017639\n",
       "LOG_AVG_PREP_VID_TIME                  0.015990\n",
       "MEDIUM_USER                            0.015322\n",
       "LATE_DELIVERY_DUMMY                    0.014390\n",
       "AVG_PREP_VID_TIME                      0.011117\n",
       "TOTAL_PHOTOS_VIEWED                    0.010047\n",
       "LARGE_CONTACT                          0.008394\n",
       "LOG_REVENUE                            0.007533\n",
       "MEDIUM_CONTACT                         0.007448\n",
       "TOTAL_MEALS_ORDERED                    0.006475\n",
       "PRODUCT_CATEGORIES_VIEWED              0.004671\n",
       "REVENUE                                0.004540\n",
       "CONTACTS_W_CUSTOMER_SERVICE           -0.000183\n",
       "MEDIUM_RANKING                        -0.003355\n",
       "WEEKLY_PLAN                           -0.005337\n",
       "HIGH_SPENDER                          -0.014265\n",
       "WEEKLY_PLAN_DUMMY                     -0.018820\n",
       "LOW_CONTACT                           -0.019750\n",
       "HIGH_RANKING                          -0.027737\n",
       "LOW_SPENDER                           -0.032705\n",
       "AVG_MEAN_RATING                       -0.035074\n",
       "SMALL_USER                            -0.036083\n",
       "JUNK                                  -0.280870"
      ]
     },
     "execution_count": 16,
     "metadata": {},
     "output_type": "execute_result"
    }
   ],
   "source": [
    "data.corr()['CROSS_SELL_SUCCESS'].to_frame().sort_values(\"CROSS_SELL_SUCCESS\", ascending = False)"
   ]
  },
  {
   "cell_type": "code",
   "execution_count": 17,
   "id": "fff8495a-52a8-4a1d-a9e8-40d69cfa2ad2",
   "metadata": {},
   "outputs": [],
   "source": [
    "#X = data.loc[:, col]\n",
    "X = data.drop(['CROSS_SELL_SUCCESS', 'EMAIL'], axis = 1)\n",
    "y = data.loc[ : , 'CROSS_SELL_SUCCESS']\n",
    "\n",
    "# Split into training and test sets\n",
    "X_train, X_test, y_train, y_test = train_test_split(X, y, test_size=0.1, random_state=219, stratify=y)\n",
    "\n",
    "data_train = pd.concat([pd.DataFrame(X_train), pd.DataFrame(y_train)], axis = 1)"
   ]
  },
  {
   "cell_type": "code",
   "execution_count": 18,
   "id": "c1fc3763-16da-4e82-8e01-a16d6642ffc7",
   "metadata": {},
   "outputs": [],
   "source": [
    "# scaling the independent variables\n",
    "scaler = StandardScaler()\n",
    "X_train = scaler.fit_transform(X_train)\n",
    "X_test = scaler.transform(X_test)"
   ]
  },
  {
   "cell_type": "markdown",
   "id": "221547e3-918b-472a-b79b-f3690375b424",
   "metadata": {},
   "source": [
    "# HYPERPARAMTERS TUNING"
   ]
  },
  {
   "cell_type": "markdown",
   "id": "ef3dddbb-56b9-4aed-81fd-819d6c6452b4",
   "metadata": {},
   "source": [
    "Hyperparameter tuning is the process of selecting the optimal set of hyperparameters for a machine learning model. Hyperparameters are parameters that are not learned by the model during training, but instead are set by the user before the training process begins. They can have a significant impact on the performance of the model.\n",
    "<br>\n",
    "<br>\n",
    "In the context of a classifier model in machine learning, hyperparameter tuning is particularly important because the choice of hyperparameters can significantly affect the accuracy and generalization performance of the model. By carefully selecting the optimal set of hyperparameters, it is possible to improve the performance of the model and reduce the risk of overfitting.\n",
    "<br>\n",
    "<br>\n",
    "Hyperparameter tuning can be a challenging and time-consuming process, as it often involves training and evaluating the model with different combinations of hyperparameters. However, it is an important step in the machine learning pipeline, as it can lead to significant improvements in the performance of the model."
   ]
  },
  {
   "cell_type": "code",
   "execution_count": 19,
   "id": "f9761870-19bc-461e-8e6b-1b17b167e4a8",
   "metadata": {},
   "outputs": [
    {
     "name": "stdout",
     "output_type": "stream",
     "text": [
      "Starting grid search for DecisionTreeClassifier()...\n",
      "Best parameters: {'clf__criterion': 'gini', 'clf__max_depth': 3, 'clf__min_samples_leaf': 4, 'clf__min_samples_split': 2}\n",
      "Best AUC score: 0.6081\n",
      "Time elapsed: 19.56 seconds\n",
      "\n",
      "Starting grid search for RandomForestClassifier()...\n",
      "Best parameters: {'clf__max_depth': 7, 'clf__n_estimators': 10}\n",
      "Best AUC score: 0.5921\n",
      "Time elapsed: 2.65 seconds\n",
      "\n",
      "Starting grid search for LogisticRegression(max_iter=1000)...\n",
      "Best parameters: {'clf__C': 0.1, 'clf__solver': 'liblinear'}\n",
      "Best AUC score: 0.6192\n",
      "Time elapsed: 2.81 seconds\n",
      "\n",
      "Starting grid search for GradientBoostingClassifier()...\n",
      "Best parameters: {'clf__learning_rate': 0.2, 'clf__max_depth': 2, 'clf__n_estimators': 5}\n",
      "Best AUC score: 0.6051\n",
      "Time elapsed: 31.32 seconds\n",
      "\n",
      "Starting grid search for KNeighborsClassifier()...\n",
      "Best parameters: {'clf__leaf_size': 10, 'clf__n_neighbors': 4, 'clf__p': 2, 'clf__weights': 'uniform'}\n",
      "Best AUC score: 0.5722\n",
      "Time elapsed: 20.52 seconds\n",
      "\n"
     ]
    }
   ],
   "source": [
    "# Set up scorer\n",
    "scorer = make_scorer(roc_auc_score)\n",
    "\n",
    "# Define pipeline steps\n",
    "scaler = StandardScaler()\n",
    "dtc    = DecisionTreeClassifier()\n",
    "rfc    = RandomForestClassifier()\n",
    "lr     = LogisticRegression(max_iter=1000)\n",
    "gbc    = GradientBoostingClassifier()\n",
    "knc    = KNeighborsClassifier()\n",
    "\n",
    "# Define parameter grids\n",
    "dtc_params = {'clf__criterion': ['gini', 'entropy'],\n",
    "              'clf__max_depth': [2, 3, 4, 5, 6, 7, 8],\n",
    "              'clf__min_samples_split': [2, 3, 4, 6, 8],\n",
    "              'clf__min_samples_leaf': [2, 3, 4, 5, 6, 7, 8]}\n",
    "rfc_params = {'clf__n_estimators': [5, 6, 7, 8, 9, 10],\n",
    "              'clf__max_depth': [2, 3, 4, 5, 6, 7, 8]}\n",
    "lr_params  = {'clf__C': [0.001, 0.01, 0.1, 1, 10, 100],\n",
    "              'clf__solver': ['liblinear', 'lbfgs', 'saga', 'newton-cg']}\n",
    "gbc_params = {'clf__n_estimators': [5, 6, 7, 8, 9, 10],\n",
    "              'clf__max_depth': [2, 3, 4, 5, 6, 7, 8],\n",
    "              'clf__learning_rate': [0.05, 0.1, 0.2]}\n",
    "knc_params = {'clf__n_neighbors': [3, 4, 5, 6, 7, 8, 9, 10, 11, 12, 13, 14, 15, 16, 17, 18, 19, 20],\n",
    "              'clf__weights': ['uniform', 'distance'],\n",
    "              'clf__p': [1, 2],\n",
    "              'clf__leaf_size': [10, 30, 50, 100]}\n",
    "\n",
    "# Define pipelines\n",
    "dtc_pipe = Pipeline([('scaler', scaler), ('clf', dtc)])\n",
    "rfc_pipe = Pipeline([('scaler', scaler), ('clf', rfc)])\n",
    "lr_pipe  = Pipeline([('scaler', scaler), ('clf', lr)])\n",
    "gbc_pipe = Pipeline([('scaler', scaler), ('clf', gbc)])\n",
    "knc_pipe = Pipeline([('scaler', scaler), ('clf', knc)])\n",
    "\n",
    "# Define hyperparameter grids for GridSearchCV\n",
    "grid_params = [\n",
    "    {'pipeline': dtc_pipe, 'params': dtc_params},\n",
    "    {'pipeline': rfc_pipe, 'params': rfc_params},\n",
    "    {'pipeline': lr_pipe, 'params': lr_params},\n",
    "    {'pipeline': gbc_pipe, 'params': gbc_params},\n",
    "    {'pipeline': knc_pipe, 'params': knc_params},\n",
    "]\n",
    "\n",
    "\n",
    "# Run GridSearchCV for each pipeline\n",
    "best_params = {}\n",
    "for params in grid_params:\n",
    "    print(f\"Starting grid search for {params['pipeline'].named_steps['clf']}...\")\n",
    "    start_time = time.time()\n",
    "    gs = GridSearchCV(params['pipeline'], params['params'], scoring=scorer, cv=5)\n",
    "    gs.fit(X_train, y_train)\n",
    "    print(f\"Best parameters: {gs.best_params_}\")\n",
    "    print(f\"Best AUC score: {gs.best_score_:.4f}\")\n",
    "    print(f\"Time elapsed: {time.time() - start_time:.2f} seconds\\n\")\n",
    "    best_params[str(params['pipeline'].named_steps['clf'])] = gs.best_params_"
   ]
  },
  {
   "cell_type": "markdown",
   "id": "9abf3099-555d-4625-b7f8-bfad8f9747d5",
   "metadata": {},
   "source": [
    "## Developing Models"
   ]
  },
  {
   "cell_type": "code",
   "execution_count": 20,
   "id": "ee47e370-c868-4bd3-b6c3-90c751c7e936",
   "metadata": {},
   "outputs": [],
   "source": [
    "models    = {}\n",
    "threshold = 0.65"
   ]
  },
  {
   "cell_type": "markdown",
   "id": "05c3ce0e-4254-4a8b-a8a3-b67acc48eb31",
   "metadata": {},
   "source": [
    "### Logistic Regression"
   ]
  },
  {
   "cell_type": "code",
   "execution_count": 21,
   "id": "be4a7146-4db8-436a-9228-8d812d26f66e",
   "metadata": {},
   "outputs": [],
   "source": [
    "#Initialize the model\n",
    "model_name = \"Logistic Regression\"\n",
    "model = LogisticRegression(C           = best_params['LogisticRegression(max_iter=1000)']['clf__C'],\n",
    "                           solver      = best_params['LogisticRegression(max_iter=1000)']['clf__solver'],\n",
    "                           random_state=219)\n",
    "\n",
    "#Fit the models\n",
    "model_fit = model.fit(X_train, y_train)\n",
    "\n",
    "#Predict on test data\n",
    "#model_pred = model_fit.predict(X_test)\n",
    "\n",
    "# get predicted probabilities\n",
    "model_y_pred_probs = model_fit.predict_proba(X_test)\n",
    "probs = model.predict_proba(X_test)[:, 1]\n",
    "\n",
    "# classify based on adjusted threshold\n",
    "model_pred = np.where(probs > threshold, 1, 0)\n",
    "\n",
    "#calculate train and test score, and train-test gap\n",
    "model_train_score = model_fit.score(X_train, y_train).round(4) # accuracy\n",
    "model_test_score  = model_fit.score(X_test, y_test).round(4)   # accuracy\n",
    "model_test_gap = abs(model_train_score - model_test_score).round(4)\n",
    "\n",
    "# calculate auc score\n",
    "model_auc = roc_auc_score(y_true  = y_test, y_score = model_pred).round(decimals = 4)\n",
    "\n",
    "# confusion matrix\n",
    "# unpacking the confusion matrix\n",
    "model_tn, \\\n",
    "model_fp, \\\n",
    "model_fn, \\\n",
    "model_tp = confusion_matrix(y_true = y_test, y_pred = model_pred).ravel()\n",
    "\n",
    "# save model and results in a dictionary in the dictionary \"models\"\n",
    "models[\"lrc\"] = {\n",
    "    \"model_type\"     : model_name,\n",
    "    \"train_acc\"      : model_train_score,\n",
    "    \"test_acc\"       : model_test_score,\n",
    "    \"train_test_gap\" : model_test_gap,\n",
    "    \"AUC_score\"      : model_auc,\n",
    "    \"conf_matrix\"    : {\n",
    "        \"tn\" : model_tn,\n",
    "        \"fp\" : model_fp,\n",
    "        \"fn\" : model_fn,\n",
    "        \"tp\" : model_tp\n",
    "    },\n",
    "    \"winner\"         : 0\n",
    "}"
   ]
  },
  {
   "cell_type": "code",
   "execution_count": 22,
   "id": "e2b19c65-9275-4681-9094-b689c9c520b7",
   "metadata": {},
   "outputs": [
    {
     "data": {
      "image/png": "[encoded data removed]",
      "text/plain": [
       "<Figure size 640x480 with 1 Axes>"
      ]
     },
     "metadata": {},
     "output_type": "display_data"
    }
   ],
   "source": [
    "# Generate ROC curve values: fpr, tpr, thresholds\n",
    "fpr, tpr, thresholds = roc_curve(y_test, probs)\n",
    "\n",
    "plt.plot([0, 1], [0, 1], 'k--')\n",
    "\n",
    "# Plot tpr against fpr\n",
    "plt.plot(fpr, tpr)\n",
    "plt.xlabel('False Positive Rate')\n",
    "plt.ylabel('True Positive Rate')\n",
    "plt.title(f'ROC Curve for cross-sell Prediction with {model_name}')\n",
    "plt.show()"
   ]
  },
  {
   "cell_type": "markdown",
   "id": "90ad1465-cfb8-4bb4-a253-dda572cc3e70",
   "metadata": {},
   "source": [
    "### Decision Tree Classifier"
   ]
  },
  {
   "cell_type": "code",
   "execution_count": 23,
   "id": "5d50b5c2-47cf-4ff0-81ee-e867a6dac968",
   "metadata": {},
   "outputs": [],
   "source": [
    "#Initialize the model\n",
    "model_name = \"Decision Tree Classifier\"\n",
    "model = DecisionTreeClassifier(criterion = best_params['DecisionTreeClassifier()']['clf__criterion'],\n",
    "                               max_depth = best_params['DecisionTreeClassifier()']['clf__max_depth'],\n",
    "                               min_samples_leaf = best_params['DecisionTreeClassifier()']['clf__min_samples_leaf'],\n",
    "                               min_samples_split = best_params['DecisionTreeClassifier()']['clf__min_samples_split'],\n",
    "                               random_state=219)\n",
    "\n",
    "#Fit the models\n",
    "model_fit = model.fit(X_train, y_train)\n",
    "\n",
    "#Predict on test data\n",
    "#model_pred = model_fit.predict(X_test)\n",
    "\n",
    "# get predicted probabilities\n",
    "model_y_pred_probs = model_fit.predict_proba(X_test)\n",
    "probs = model.predict_proba(X_test)[:, 1]\n",
    "\n",
    "# classify based on adjusted threshold\n",
    "model_pred = np.where(probs > threshold, 1, 0)\n",
    "\n",
    "#calculate train and test score, and train-test gap\n",
    "model_train_score = model_fit.score(X_train, y_train).round(4) # accuracy\n",
    "model_test_score  = model_fit.score(X_test, y_test).round(4)   # accuracy\n",
    "model_test_gap = abs(model_train_score - model_test_score).round(4)\n",
    "\n",
    "# calculate auc score\n",
    "model_auc = roc_auc_score(y_true  = y_test, y_score = model_pred).round(decimals = 4)\n",
    "\n",
    "# confusion matrix\n",
    "# unpacking the confusion matrix\n",
    "model_tn, \\\n",
    "model_fp, \\\n",
    "model_fn, \\\n",
    "model_tp = confusion_matrix(y_true = y_test, y_pred = model_pred).ravel()\n",
    "\n",
    "# save model and results in a dictionary in the dictionary \"models\"\n",
    "models[\"dtc\"] = {\n",
    "    \"model_type\"     : model_name,\n",
    "    \"train_acc\"      : model_train_score,\n",
    "    \"test_acc\"       : model_test_score,\n",
    "    \"train_test_gap\" : model_test_gap,\n",
    "    \"AUC_score\"      : model_auc,\n",
    "    \"conf_matrix\"    : {\n",
    "        \"tn\" : model_tn,\n",
    "        \"fp\" : model_fp,\n",
    "        \"fn\" : model_fn,\n",
    "        \"tp\" : model_tp\n",
    "    },\n",
    "    \"winner\"         : 0\n",
    "}"
   ]
  },
  {
   "cell_type": "code",
   "execution_count": 24,
   "id": "d6da3377-4172-4df1-9a27-b0fd93fcd21b",
   "metadata": {},
   "outputs": [
    {
     "data": {
      "image/png": "[encoded data removed]",
      "text/plain": [
       "<Figure size 640x480 with 1 Axes>"
      ]
     },
     "metadata": {},
     "output_type": "display_data"
    }
   ],
   "source": [
    "# Generate ROC curve values: fpr, tpr, thresholds\n",
    "fpr, tpr, thresholds = roc_curve(y_test, probs)\n",
    "\n",
    "plt.plot([0, 1], [0, 1], 'k--')\n",
    "\n",
    "# Plot tpr against fpr\n",
    "plt.plot(fpr, tpr)\n",
    "plt.xlabel('False Positive Rate')\n",
    "plt.ylabel('True Positive Rate')\n",
    "plt.title(f'ROC Curve for cross-sell Prediction with {model_name}')\n",
    "plt.show()"
   ]
  },
  {
   "cell_type": "markdown",
   "id": "79e16315-819f-46ba-a541-2927afa6b505",
   "metadata": {},
   "source": [
    "### Gradient Boosting Classifier"
   ]
  },
  {
   "cell_type": "code",
   "execution_count": 25,
   "id": "d876eca1-894c-4c0a-bd27-1b32f97446c8",
   "metadata": {},
   "outputs": [],
   "source": [
    "#Initialize the model\n",
    "model_name = \"Gradient Boosting Classifier\"\n",
    "model = GradientBoostingClassifier(learning_rate = best_params['GradientBoostingClassifier()']['clf__learning_rate'],\n",
    "                                   max_depth     = best_params['GradientBoostingClassifier()']['clf__max_depth'],\n",
    "                                   n_estimators  = best_params['GradientBoostingClassifier()']['clf__n_estimators'],\n",
    "                                   random_state  = 219)\n",
    "\n",
    "#Fit the models\n",
    "model_fit = model.fit(X_train, y_train)\n",
    "\n",
    "#Predict on test data\n",
    "#model_pred = model_fit.predict(X_test)\n",
    "\n",
    "# get predicted probabilities\n",
    "model_y_pred_probs = model_fit.predict_proba(X_test)\n",
    "probs = model.predict_proba(X_test)[:, 1]\n",
    "\n",
    "# classify based on adjusted threshold\n",
    "model_pred = np.where(probs > threshold, 1, 0)\n",
    "\n",
    "#calculate train and test score, and train-test gap\n",
    "model_train_score = model_fit.score(X_train, y_train).round(4) # accuracy\n",
    "model_test_score  = model_fit.score(X_test, y_test).round(4)   # accuracy\n",
    "model_test_gap = abs(model_train_score - model_test_score).round(4)\n",
    "\n",
    "# calculate auc score\n",
    "model_auc = roc_auc_score(y_true  = y_test, y_score = model_pred).round(decimals = 4)\n",
    "\n",
    "# confusion matrix\n",
    "# unpacking the confusion matrix\n",
    "model_tn, \\\n",
    "model_fp, \\\n",
    "model_fn, \\\n",
    "model_tp = confusion_matrix(y_true = y_test, y_pred = model_pred).ravel()\n",
    "\n",
    "# save model and results in a dictionary in the dictionary \"models\"\n",
    "models[\"gbc\"] = {\n",
    "    \"model_type\"     : model_name,\n",
    "    \"train_acc\"      : model_train_score,\n",
    "    \"test_acc\"       : model_test_score,\n",
    "    \"train_test_gap\" : model_test_gap,\n",
    "    \"AUC_score\"      : model_auc,\n",
    "    \"conf_matrix\"    : {\n",
    "        \"tn\" : model_tn,\n",
    "        \"fp\" : model_fp,\n",
    "        \"fn\" : model_fn,\n",
    "        \"tp\" : model_tp\n",
    "    },\n",
    "    \"winner\"         : 0\n",
    "}"
   ]
  },
  {
   "cell_type": "code",
   "execution_count": 26,
   "id": "adc1d116-e07c-4d05-9e62-f3fc5150eb06",
   "metadata": {},
   "outputs": [
    {
     "data": {
      "image/png": "[encoded data removed]",
      "text/plain": [
       "<Figure size 640x480 with 1 Axes>"
      ]
     },
     "metadata": {},
     "output_type": "display_data"
    }
   ],
   "source": [
    "# Generate ROC curve values: fpr, tpr, thresholds\n",
    "fpr, tpr, thresholds = roc_curve(y_test, probs)\n",
    "\n",
    "plt.plot([0, 1], [0, 1], 'k--')\n",
    "\n",
    "# Plot tpr against fpr\n",
    "plt.plot(fpr, tpr)\n",
    "plt.xlabel('False Positive Rate')\n",
    "plt.ylabel('True Positive Rate')\n",
    "plt.title(f'ROC Curve for cross-sell Prediction with {model_name}')\n",
    "plt.show()"
   ]
  },
  {
   "cell_type": "markdown",
   "id": "a50bcd16-aeec-4d08-aa5d-6177d45f6ed2",
   "metadata": {},
   "source": [
    "### Random Forest Classifier"
   ]
  },
  {
   "cell_type": "code",
   "execution_count": 27,
   "id": "ae0f48fc-ae13-4373-9080-38783cdd3e57",
   "metadata": {},
   "outputs": [],
   "source": [
    "#Initialize the model\n",
    "model_name = \"Random Forest Classifier\"\n",
    "model = RandomForestClassifier(max_depth    = best_params['RandomForestClassifier()']['clf__max_depth'],\n",
    "                               n_estimators = best_params['RandomForestClassifier()']['clf__n_estimators'],\n",
    "                               random_state = 219)\n",
    "\n",
    "#Fit the models\n",
    "model_fit = model.fit(X_train, y_train)\n",
    "\n",
    "#Predict on test data\n",
    "#model_pred = model_fit.predict(X_test)\n",
    "\n",
    "# get predicted probabilities\n",
    "model_y_pred_probs = model_fit.predict_proba(X_test)\n",
    "probs = model.predict_proba(X_test)[:, 1]\n",
    "\n",
    "# classify based on adjusted threshold\n",
    "model_pred = np.where(probs > threshold, 1, 0)\n",
    "\n",
    "#calculate train and test score, and train-test gap\n",
    "model_train_score = model_fit.score(X_train, y_train).round(4) # accuracy\n",
    "model_test_score  = model_fit.score(X_test, y_test).round(4)   # accuracy\n",
    "model_test_gap = abs(model_train_score - model_test_score).round(4)\n",
    "\n",
    "# calculate auc score\n",
    "model_auc = roc_auc_score(y_true  = y_test, y_score = model_pred).round(decimals = 4)\n",
    "\n",
    "# confusion matrix\n",
    "# unpacking the confusion matrix\n",
    "model_tn, \\\n",
    "model_fp, \\\n",
    "model_fn, \\\n",
    "model_tp = confusion_matrix(y_true = y_test, y_pred = model_pred).ravel()\n",
    "\n",
    "# save model and results in a dictionary in the dictionary \"models\"\n",
    "models[\"rfc\"] = {\n",
    "    \"model_type\"     : model_name,\n",
    "    \"train_acc\"      : model_train_score,\n",
    "    \"test_acc\"       : model_test_score,\n",
    "    \"train_test_gap\" : model_test_gap,\n",
    "    \"AUC_score\"      : model_auc,\n",
    "    \"conf_matrix\"    : {\n",
    "        \"tn\" : model_tn,\n",
    "        \"fp\" : model_fp,\n",
    "        \"fn\" : model_fn,\n",
    "        \"tp\" : model_tp\n",
    "    },\n",
    "    \"winner\"         : 0\n",
    "}"
   ]
  },
  {
   "cell_type": "code",
   "execution_count": 28,
   "id": "b2e3daeb-692e-4f10-aa4f-7ab32749adf0",
   "metadata": {},
   "outputs": [
    {
     "data": {
      "image/png": "[encoded data removed]",
      "text/plain": [
       "<Figure size 640x480 with 1 Axes>"
      ]
     },
     "metadata": {},
     "output_type": "display_data"
    }
   ],
   "source": [
    "# Generate ROC curve values: fpr, tpr, thresholds\n",
    "fpr, tpr, thresholds = roc_curve(y_test, probs)\n",
    "\n",
    "plt.plot([0, 1], [0, 1], 'k--')\n",
    "\n",
    "# Plot tpr against fpr\n",
    "plt.plot(fpr, tpr)\n",
    "plt.xlabel('False Positive Rate')\n",
    "plt.ylabel('True Positive Rate')\n",
    "plt.title(f'ROC Curve for cross-sell Prediction with {model_name}')\n",
    "plt.show()"
   ]
  },
  {
   "cell_type": "markdown",
   "id": "f02c21a3-b9ae-4b3f-8dab-0a319721258f",
   "metadata": {},
   "source": [
    "### K Neighbors Classifier"
   ]
  },
  {
   "cell_type": "code",
   "execution_count": 29,
   "id": "b3ff7c25-cb14-4f4c-94e4-3cb9a8360425",
   "metadata": {},
   "outputs": [],
   "source": [
    "#Initialize the model\n",
    "model_name = \"K Neighbors Classifier\"\n",
    "model = KNeighborsClassifier(leaf_size   = best_params['KNeighborsClassifier()']['clf__leaf_size'],\n",
    "                             n_neighbors = best_params['KNeighborsClassifier()']['clf__n_neighbors'],\n",
    "                             p           = best_params['KNeighborsClassifier()']['clf__p'],\n",
    "                             weights     = best_params['KNeighborsClassifier()']['clf__weights'])\n",
    "\n",
    "#Fit the models\n",
    "model_fit = model.fit(X_train, y_train)\n",
    "\n",
    "#Predict on test data\n",
    "#model_pred = model_fit.predict(X_test)\n",
    "\n",
    "# get predicted probabilities\n",
    "model_y_pred_probs = model_fit.predict_proba(X_test)\n",
    "probs = model.predict_proba(X_test)[:, 1]\n",
    "\n",
    "# classify based on adjusted threshold\n",
    "model_pred = np.where(probs > threshold, 1, 0)\n",
    "\n",
    "#calculate train and test score, and train-test gap\n",
    "model_train_score = model_fit.score(X_train, y_train).round(4) # accuracy\n",
    "model_test_score  = model_fit.score(X_test, y_test).round(4)   # accuracy\n",
    "model_test_gap = abs(model_train_score - model_test_score).round(4)\n",
    "\n",
    "# calculate auc score\n",
    "model_auc = roc_auc_score(y_true  = y_test, y_score = model_pred).round(decimals = 4)\n",
    "\n",
    "# confusion matrix\n",
    "# unpacking the confusion matrix\n",
    "model_tn, \\\n",
    "model_fp, \\\n",
    "model_fn, \\\n",
    "model_tp = confusion_matrix(y_true = y_test, y_pred = model_pred).ravel()\n",
    "\n",
    "# save model and results in a dictionary in the dictionary \"models\"\n",
    "models[\"knc\"] = {\n",
    "    \"model_type\"     : model_name,\n",
    "    \"train_acc\"      : model_train_score,\n",
    "    \"test_acc\"       : model_test_score,\n",
    "    \"train_test_gap\" : model_test_gap,\n",
    "    \"AUC_score\"      : model_auc,\n",
    "    \"conf_matrix\"    : {\n",
    "        \"tn\" : model_tn,\n",
    "        \"fp\" : model_fp,\n",
    "        \"fn\" : model_fn,\n",
    "        \"tp\" : model_tp\n",
    "    },\n",
    "    \"winner\"         : 0\n",
    "}"
   ]
  },
  {
   "cell_type": "code",
   "execution_count": 30,
   "id": "edfe711d-9cc4-45ab-996f-e928c44658e0",
   "metadata": {},
   "outputs": [
    {
     "data": {
      "image/png": "[encoded data removed]",
      "text/plain": [
       "<Figure size 640x480 with 1 Axes>"
      ]
     },
     "metadata": {},
     "output_type": "display_data"
    }
   ],
   "source": [
    "# Generate ROC curve values: fpr, tpr, thresholds\n",
    "fpr, tpr, thresholds = roc_curve(y_test, probs)\n",
    "\n",
    "plt.plot([0, 1], [0, 1], 'k--')\n",
    "\n",
    "# Plot tpr against fpr\n",
    "plt.plot(fpr, tpr)\n",
    "plt.xlabel('False Positive Rate')\n",
    "plt.ylabel('True Positive Rate')\n",
    "plt.title(f'ROC Curve for cross-sell Prediction with {model_name}')\n",
    "plt.show()"
   ]
  },
  {
   "cell_type": "markdown",
   "id": "199d52a5-7a28-4a36-9c13-8b9b91648730",
   "metadata": {},
   "source": [
    "## MODEL TOURNAMENT"
   ]
  },
  {
   "cell_type": "code",
   "execution_count": 31,
   "id": "d6215df6-c7cc-45f5-9e08-31d1feec3b86",
   "metadata": {},
   "outputs": [],
   "source": [
    "# initialize the highest AUC score\n",
    "highest_auc = -1\n",
    "\n",
    "# find the highest AUC score\n",
    "for key, value in models.items():\n",
    "    if value[\"AUC_score\"] > highest_auc:\n",
    "        highest_auc = value[\"AUC_score\"]\n",
    "        winner_key = key\n",
    "\n",
    "# set the winner value of the highest scoring sub-dictionary to 1, and the others to 0\n",
    "for key, value in models.items():\n",
    "    if key == winner_key:\n",
    "        value[\"winner\"] = 1\n",
    "    else:\n",
    "        value[\"winner\"] = 0"
   ]
  },
  {
   "cell_type": "markdown",
   "id": "3e79f419-5c94-40d4-bdba-1ad479e10e09",
   "metadata": {},
   "source": [
    "# CONCLUSION"
   ]
  },
  {
   "cell_type": "code",
   "execution_count": 32,
   "id": "62b7551c-b494-4e51-8645-a2e6ad5fb37f",
   "metadata": {},
   "outputs": [
    {
     "name": "stdout",
     "output_type": "stream",
     "text": [
      "-------------------------------------------------------------------------------------------------------------------------------------------------------------------------------\n",
      "| Model      | Type                           | Train Accuracy  | Test Accuracy   | Train-Test Gap  | AUC Score       | Confusion Matrix                         | Winner     |\n",
      "-------------------------------------------------------------------------------------------------------------------------------------------------------------------------------\n",
      "| lrc        | Logistic Regression            | 0.7299          | 0.7179          | 0.012           | 0.6097          | tn: 31  | fp: 32  | fn: 36  | tp: 96     | 0          |\n",
      "| dtc        | Decision Tree Classifier       | 0.7299          | 0.6974          | 0.0325          | 0.6587          | tn: 41  | fp: 22  | fn: 44  | tp: 88     | 1          |\n",
      "| gbc        | Gradient Boosting Classifier   | 0.7276          | 0.6974          | 0.0302          | 0.6106          | tn: 23  | fp: 40  | fn: 19  | tp: 113    | 0          |\n",
      "| rfc        | Random Forest Classifier       | 0.7824          | 0.7077          | 0.0747          | 0.5821          | tn: 28  | fp: 35  | fn: 37  | tp: 95     | 0          |\n",
      "| knc        | K Neighbors Classifier         | 0.7756          | 0.6051          | 0.1705          | 0.5673          | tn: 29  | fp: 34  | fn: 43  | tp: 89     | 0          |\n",
      "-------------------------------------------------------------------------------------------------------------------------------------------------------------------------------\n"
     ]
    }
   ],
   "source": [
    "header = \"| {:<10} | {:<30} | {:<15} | {:<15} | {:<15} | {:<15} | {:<40} | {:<10} |\".format(\n",
    "    \"Model\", \"Type\", \"Train Accuracy\", \"Test Accuracy\", \"Train-Test Gap\", \"AUC Score\", \"Confusion Matrix\", \"Winner\"\n",
    ")\n",
    "\n",
    "print(\"-\" * len(header))\n",
    "print(header)\n",
    "print(\"-\" * len(header))\n",
    "\n",
    "for k, v in models.items():\n",
    "    model = k\n",
    "    model_type = v['model_type']\n",
    "    train_acc = v['train_acc']\n",
    "    test_acc = v['test_acc']\n",
    "    train_test_gap = v['train_test_gap']\n",
    "    auc_score = v['AUC_score']\n",
    "    winner = v['winner']\n",
    "    tn = v['conf_matrix']['tn']\n",
    "    fp = v['conf_matrix']['fp']\n",
    "    fn = v['conf_matrix']['fn']\n",
    "    tp = v['conf_matrix']['tp']\n",
    "    conf_matrix = \"tn: {:<3} | fp: {:<3} | fn: {:<3} | tp: {:<3}\".format(\n",
    "    tn, fp, fn, tp\n",
    "    )\n",
    "    \n",
    "    row = \"| {:<10} | {:<30} | {:<15} | {:<15} | {:<15} | {:<15} | {:<40} | {:<10} |\".format(\n",
    "        model, model_type, train_acc, test_acc, train_test_gap, auc_score, conf_matrix, winner\n",
    "    )\n",
    "    print(row)\n",
    "\n",
    "print(\"-\" * len(header))"
   ]
  }
 ],
 "metadata": {
  "kernelspec": {
   "display_name": "Python 3 (ipykernel)",
   "language": "python",
   "name": "python3"
  },
  "language_info": {
   "codemirror_mode": {
    "name": "ipython",
    "version": 3
   },
   "file_extension": ".py",
   "mimetype": "text/x-python",
   "name": "python",
   "nbconvert_exporter": "python",
   "pygments_lexer": "ipython3",
   "version": "3.9.13"
  }
 },
 "nbformat": 4,
 "nbformat_minor": 5
}
